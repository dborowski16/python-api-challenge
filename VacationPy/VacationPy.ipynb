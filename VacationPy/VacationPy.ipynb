{
 "cells": [
  {
   "cell_type": "markdown",
   "metadata": {},
   "source": [
    "# VacationPy\n",
    "----\n",
    "\n",
    "#### Note\n",
    "* Instructions have been included for each segment. You do not have to follow them exactly, but they are included to help you think through the steps."
   ]
  },
  {
   "cell_type": "code",
   "execution_count": 98,
   "metadata": {},
   "outputs": [],
   "source": [
    "# Dependencies and Setup\n",
    "import matplotlib.pyplot as plt\n",
    "import pandas as pd\n",
    "import numpy as np\n",
    "import requests\n",
    "import gmaps\n",
    "import os\n",
    "from pprint import pprint\n",
    "\n",
    "# Import API key\n",
    "from api_keys import g_key"
   ]
  },
  {
   "cell_type": "markdown",
   "metadata": {},
   "source": [
    "### Store Part I results into DataFrame\n",
    "* Load the csv exported in Part I to a DataFrame"
   ]
  },
  {
   "cell_type": "code",
   "execution_count": 99,
   "metadata": {},
   "outputs": [
    {
     "data": {
      "text/html": [
       "<div>\n",
       "<style scoped>\n",
       "    .dataframe tbody tr th:only-of-type {\n",
       "        vertical-align: middle;\n",
       "    }\n",
       "\n",
       "    .dataframe tbody tr th {\n",
       "        vertical-align: top;\n",
       "    }\n",
       "\n",
       "    .dataframe thead th {\n",
       "        text-align: right;\n",
       "    }\n",
       "</style>\n",
       "<table border=\"1\" class=\"dataframe\">\n",
       "  <thead>\n",
       "    <tr style=\"text-align: right;\">\n",
       "      <th></th>\n",
       "      <th>City</th>\n",
       "      <th>Lat</th>\n",
       "      <th>Lng</th>\n",
       "      <th>Max Temp</th>\n",
       "      <th>Humidity</th>\n",
       "      <th>Cloudiness</th>\n",
       "      <th>Wind Speed</th>\n",
       "      <th>Country</th>\n",
       "      <th>Date</th>\n",
       "    </tr>\n",
       "  </thead>\n",
       "  <tbody>\n",
       "    <tr>\n",
       "      <th>0</th>\n",
       "      <td>Nantucket</td>\n",
       "      <td>41.28</td>\n",
       "      <td>-70.10</td>\n",
       "      <td>75.20</td>\n",
       "      <td>83</td>\n",
       "      <td>1</td>\n",
       "      <td>9.17</td>\n",
       "      <td>US</td>\n",
       "      <td>1596287482</td>\n",
       "    </tr>\n",
       "    <tr>\n",
       "      <th>1</th>\n",
       "      <td>Port Alfred</td>\n",
       "      <td>-33.59</td>\n",
       "      <td>26.89</td>\n",
       "      <td>65.80</td>\n",
       "      <td>60</td>\n",
       "      <td>0</td>\n",
       "      <td>8.90</td>\n",
       "      <td>ZA</td>\n",
       "      <td>1596287706</td>\n",
       "    </tr>\n",
       "    <tr>\n",
       "      <th>2</th>\n",
       "      <td>Badajoz</td>\n",
       "      <td>38.67</td>\n",
       "      <td>-6.17</td>\n",
       "      <td>96.01</td>\n",
       "      <td>14</td>\n",
       "      <td>0</td>\n",
       "      <td>5.01</td>\n",
       "      <td>ES</td>\n",
       "      <td>1596287706</td>\n",
       "    </tr>\n",
       "    <tr>\n",
       "      <th>3</th>\n",
       "      <td>Boshnyakovo</td>\n",
       "      <td>49.63</td>\n",
       "      <td>142.17</td>\n",
       "      <td>58.48</td>\n",
       "      <td>93</td>\n",
       "      <td>100</td>\n",
       "      <td>9.13</td>\n",
       "      <td>RU</td>\n",
       "      <td>1596287706</td>\n",
       "    </tr>\n",
       "    <tr>\n",
       "      <th>4</th>\n",
       "      <td>Aljezur</td>\n",
       "      <td>37.32</td>\n",
       "      <td>-8.80</td>\n",
       "      <td>84.99</td>\n",
       "      <td>44</td>\n",
       "      <td>3</td>\n",
       "      <td>13.73</td>\n",
       "      <td>PT</td>\n",
       "      <td>1596287707</td>\n",
       "    </tr>\n",
       "  </tbody>\n",
       "</table>\n",
       "</div>"
      ],
      "text/plain": [
       "          City    Lat     Lng  Max Temp  Humidity  Cloudiness  Wind Speed  \\\n",
       "0    Nantucket  41.28  -70.10     75.20        83           1        9.17   \n",
       "1  Port Alfred -33.59   26.89     65.80        60           0        8.90   \n",
       "2      Badajoz  38.67   -6.17     96.01        14           0        5.01   \n",
       "3  Boshnyakovo  49.63  142.17     58.48        93         100        9.13   \n",
       "4      Aljezur  37.32   -8.80     84.99        44           3       13.73   \n",
       "\n",
       "  Country        Date  \n",
       "0      US  1596287482  \n",
       "1      ZA  1596287706  \n",
       "2      ES  1596287706  \n",
       "3      RU  1596287706  \n",
       "4      PT  1596287707  "
      ]
     },
     "execution_count": 99,
     "metadata": {},
     "output_type": "execute_result"
    }
   ],
   "source": [
    "# Loading csv file from WeatherPy\n",
    "cities_df = pd.read_csv(\"../WeatherPy/output_data/cities.csv\",index_col=0)\n",
    "cities_df.head()"
   ]
  },
  {
   "cell_type": "markdown",
   "metadata": {},
   "source": [
    "### Humidity Heatmap\n",
    "* Configure gmaps.\n",
    "* Use the Lat and Lng as locations and Humidity as the weight.\n",
    "* Add Heatmap layer to map."
   ]
  },
  {
   "cell_type": "code",
   "execution_count": 100,
   "metadata": {},
   "outputs": [],
   "source": [
    "# Configuring gmaps for heatmap creation\n",
    "gmaps.configure(api_key=g_key)"
   ]
  },
  {
   "cell_type": "code",
   "execution_count": 105,
   "metadata": {},
   "outputs": [],
   "source": [
    "# Setting locations by lat/long and intensity by humidity\n",
    "locations = cities_df[['Lat','Lng']].astype(float)\n",
    "humidity = cities_df['Humidity'].astype(float)"
   ]
  },
  {
   "cell_type": "code",
   "execution_count": 106,
   "metadata": {},
   "outputs": [
    {
     "data": {
      "application/vnd.jupyter.widget-view+json": {
       "model_id": "34ad4825759148c78d2706706623a9be",
       "version_major": 2,
       "version_minor": 0
      },
      "text/plain": [
       "Figure(layout=FigureLayout(height='420px'))"
      ]
     },
     "metadata": {},
     "output_type": "display_data"
    }
   ],
   "source": [
    "# Creating heat map of humidity\n",
    "fig = gmaps.figure()\n",
    "\n",
    "heat_layer = gmaps.heatmap_layer(locations, weights=humidity, \n",
    "                                 dissipating=False, max_intensity=100,\n",
    "                                 point_radius = 3)\n",
    "\n",
    "fig.add_layer(heat_layer)\n",
    "\n",
    "fig"
   ]
  },
  {
   "cell_type": "markdown",
   "metadata": {},
   "source": [
    "### Create new DataFrame fitting weather criteria\n",
    "* Narrow down the cities to fit weather conditions.\n",
    "* Drop any rows will null values."
   ]
  },
  {
   "cell_type": "code",
   "execution_count": 107,
   "metadata": {},
   "outputs": [
    {
     "data": {
      "text/html": [
       "<div>\n",
       "<style scoped>\n",
       "    .dataframe tbody tr th:only-of-type {\n",
       "        vertical-align: middle;\n",
       "    }\n",
       "\n",
       "    .dataframe tbody tr th {\n",
       "        vertical-align: top;\n",
       "    }\n",
       "\n",
       "    .dataframe thead th {\n",
       "        text-align: right;\n",
       "    }\n",
       "</style>\n",
       "<table border=\"1\" class=\"dataframe\">\n",
       "  <thead>\n",
       "    <tr style=\"text-align: right;\">\n",
       "      <th></th>\n",
       "      <th>City</th>\n",
       "      <th>Lat</th>\n",
       "      <th>Lng</th>\n",
       "      <th>Max Temp</th>\n",
       "      <th>Humidity</th>\n",
       "      <th>Cloudiness</th>\n",
       "      <th>Wind Speed</th>\n",
       "      <th>Country</th>\n",
       "      <th>Date</th>\n",
       "    </tr>\n",
       "  </thead>\n",
       "  <tbody>\n",
       "    <tr>\n",
       "      <th>44</th>\n",
       "      <td>Rājbirāj</td>\n",
       "      <td>26.53</td>\n",
       "      <td>86.75</td>\n",
       "      <td>89.13</td>\n",
       "      <td>60.0</td>\n",
       "      <td>0.0</td>\n",
       "      <td>2.15</td>\n",
       "      <td>NP</td>\n",
       "      <td>1.596287e+09</td>\n",
       "    </tr>\n",
       "    <tr>\n",
       "      <th>174</th>\n",
       "      <td>Richards Bay</td>\n",
       "      <td>-28.78</td>\n",
       "      <td>32.04</td>\n",
       "      <td>80.38</td>\n",
       "      <td>34.0</td>\n",
       "      <td>0.0</td>\n",
       "      <td>8.12</td>\n",
       "      <td>ZA</td>\n",
       "      <td>1.596288e+09</td>\n",
       "    </tr>\n",
       "    <tr>\n",
       "      <th>213</th>\n",
       "      <td>Kumul</td>\n",
       "      <td>42.80</td>\n",
       "      <td>93.45</td>\n",
       "      <td>88.34</td>\n",
       "      <td>11.0</td>\n",
       "      <td>0.0</td>\n",
       "      <td>1.86</td>\n",
       "      <td>CN</td>\n",
       "      <td>1.596288e+09</td>\n",
       "    </tr>\n",
       "    <tr>\n",
       "      <th>243</th>\n",
       "      <td>Nesoddtangen</td>\n",
       "      <td>59.87</td>\n",
       "      <td>10.66</td>\n",
       "      <td>75.99</td>\n",
       "      <td>55.0</td>\n",
       "      <td>0.0</td>\n",
       "      <td>4.00</td>\n",
       "      <td>NO</td>\n",
       "      <td>1.596288e+09</td>\n",
       "    </tr>\n",
       "    <tr>\n",
       "      <th>270</th>\n",
       "      <td>Guigue</td>\n",
       "      <td>10.09</td>\n",
       "      <td>-67.78</td>\n",
       "      <td>77.40</td>\n",
       "      <td>76.0</td>\n",
       "      <td>0.0</td>\n",
       "      <td>3.78</td>\n",
       "      <td>VE</td>\n",
       "      <td>1.596288e+09</td>\n",
       "    </tr>\n",
       "  </tbody>\n",
       "</table>\n",
       "</div>"
      ],
      "text/plain": [
       "             City    Lat    Lng  Max Temp  Humidity  Cloudiness  Wind Speed  \\\n",
       "44       Rājbirāj  26.53  86.75     89.13      60.0         0.0        2.15   \n",
       "174  Richards Bay -28.78  32.04     80.38      34.0         0.0        8.12   \n",
       "213         Kumul  42.80  93.45     88.34      11.0         0.0        1.86   \n",
       "243  Nesoddtangen  59.87  10.66     75.99      55.0         0.0        4.00   \n",
       "270        Guigue  10.09 -67.78     77.40      76.0         0.0        3.78   \n",
       "\n",
       "    Country          Date  \n",
       "44       NP  1.596287e+09  \n",
       "174      ZA  1.596288e+09  \n",
       "213      CN  1.596288e+09  \n",
       "243      NO  1.596288e+09  \n",
       "270      VE  1.596288e+09  "
      ]
     },
     "execution_count": 107,
     "metadata": {},
     "output_type": "execute_result"
    }
   ],
   "source": [
    "# Setting conditions for ideal vacation spots to get our tan on\n",
    "hotel_df = cities_df.where((cities_df['Max Temp']>75) &\n",
    "                                 (cities_df['Max Temp']<90) &\n",
    "                                 (cities_df['Wind Speed']<10) &\n",
    "                                 (cities_df['Cloudiness']==0) &\n",
    "                                 (cities_df['Humidity']<80))\n",
    "hotel_df=hotel_df.dropna()\n",
    "hotel_df.head()"
   ]
  },
  {
   "cell_type": "markdown",
   "metadata": {},
   "source": [
    "### Hotel Map\n",
    "* Store into variable named `hotel_df`.\n",
    "* Add a \"Hotel Name\" column to the DataFrame.\n",
    "* Set parameters to search for hotels with 5000 meters.\n",
    "* Hit the Google Places API for each city's coordinates.\n",
    "* Store the first Hotel result into the DataFrame.\n",
    "* Plot markers on top of the heatmap."
   ]
  },
  {
   "cell_type": "code",
   "execution_count": 108,
   "metadata": {},
   "outputs": [],
   "source": [
    "# Creating new column in the df to store the name of the hotels in our vacation spots\n",
    "hotel_df['Hotel Name']=\"\""
   ]
  },
  {
   "cell_type": "code",
   "execution_count": 109,
   "metadata": {},
   "outputs": [
    {
     "name": "stdout",
     "output_type": "stream",
     "text": [
      "Retrieving Results for Rājbirāj.\n",
      "Closest hotel to Rājbirāj is Deluxe Star Hotel 3.\n",
      "------------\n",
      "Retrieving Results for Richards Bay.\n",
      "Closest hotel to Richards Bay is BON Hotel Waterfront Richards Bay.\n",
      "------------\n",
      "Retrieving Results for Kumul.\n",
      "Closest hotel to Kumul is 7 Days Inn.\n",
      "------------\n",
      "Retrieving Results for Nesoddtangen.\n",
      "Closest hotel to Nesoddtangen is Grand Hotel Oslo.\n",
      "------------\n",
      "Retrieving Results for Guigue.\n",
      "Closest hotel to Guigue is Motel paraiso.\n",
      "------------\n",
      "Retrieving Results for Fukuechō.\n",
      "Closest hotel to Fukuechō is GOTO TSUBAKI HOTEL.\n",
      "------------\n",
      "Retrieving Results for Saldanha.\n",
      "Closest hotel to Saldanha is Protea Hotel by Marriott Saldanha Bay.\n",
      "------------\n",
      "Retrieving Results for Malbork.\n",
      "Closest hotel to Malbork is Hotel Grot.\n",
      "------------\n",
      "Retrieving Results for Luena.\n",
      "Closest hotel to Luena is Hotel Kandamba.\n",
      "------------\n",
      "Retrieving Results for Derzhavīnsk.\n",
      "Closest hotel to Derzhavīnsk is Gostinitsa Galaktika.\n",
      "------------\n",
      "Retrieving Results for Louis Trichardt.\n",
      "Closest hotel to Louis Trichardt is Tshedza Guest Lodge.\n",
      "------------\n",
      "Retrieving Results for Kalabo.\n",
      "Closest hotel to Kalabo is Sikakubete Guest House Kalabo Town Council.\n",
      "------------\n",
      "Retrieving Results for São Félix do Xingu.\n",
      "Closest hotel to São Félix do Xingu is Apart Hotel Rio Xingu.\n",
      "------------\n",
      "Retrieving Results for Shaoyang.\n",
      "Closest hotel to Shaoyang is Vienna Hotel.\n",
      "------------\n",
      "Retrieving Results for Labuhan.\n",
      "Missing field/result... skipping.\n",
      "------------\n"
     ]
    }
   ],
   "source": [
    "# Setting up the url and data pull from google maps for hotel names\n",
    "base_url = \"https://maps.googleapis.com/maps/api/place/nearbysearch/json\"\n",
    "\n",
    "# Creating search radius and target search type\n",
    "target_radius=5000\n",
    "target_search='hotel'\n",
    "\n",
    "# Setting search parameters\n",
    "params = {\"keyword\": target_search,\n",
    "          \"radius\": target_radius,\n",
    "          \"key\": g_key,\n",
    "          }\n",
    "\n",
    "# iterating through the df to get the nearest hotels, 5000 m or less\n",
    "for index, row in hotel_df.iterrows():\n",
    "    \n",
    "    city = row['City']\n",
    "    lat = row['Lat']\n",
    "    lng = row['Lng']\n",
    "    params['location']=f'{lat},{lng}'\n",
    "    \n",
    "    # making API request\n",
    "    print(f'Retrieving Results for {city}.'')\n",
    "    response = requests.get(base_url, params=params).json()\n",
    "    \n",
    "    # extract results\n",
    "    results = response['results']\n",
    "    \n",
    "    try:\n",
    "        print(f'Closest hotel to {city} is {results[0]['name']}.')\n",
    "        hotel_df.loc[index, 'Hotel Name'] = results[0]['name']\n",
    "        \n",
    "    except (KeyError, IndexError):\n",
    "        print(\"Missing field/result... skipping.\")\n",
    "        \n",
    "    print(\"------------\")"
   ]
  },
  {
   "cell_type": "code",
   "execution_count": 110,
   "metadata": {},
   "outputs": [],
   "source": [
    "# NOTE: Do not change any of the code in this cell\n",
    "\n",
    "# Using the template add the hotel marks to the heatmap\n",
    "info_box_template = \"\"\"\n",
    "<dl>\n",
    "<dt>Name</dt><dd>{Hotel Name}</dd>\n",
    "<dt>City</dt><dd>{City}</dd>\n",
    "<dt>Country</dt><dd>{Country}</dd>\n",
    "</dl>\n",
    "\"\"\"\n",
    "# Store the DataFrame Row\n",
    "# NOTE: be sure to update with your DataFrame name\n",
    "hotel_info = [info_box_template.format(**row) for index, row in hotel_df.iterrows()]\n",
    "locations = hotel_df[[\"Lat\", \"Lng\"]]"
   ]
  },
  {
   "cell_type": "code",
   "execution_count": 111,
   "metadata": {},
   "outputs": [
    {
     "data": {
      "application/vnd.jupyter.widget-view+json": {
       "model_id": "afc8d72188fd45ac98c36ea3634625d3",
       "version_major": 2,
       "version_minor": 0
      },
      "text/plain": [
       "Figure(layout=FigureLayout(height='420px'))"
      ]
     },
     "metadata": {},
     "output_type": "display_data"
    }
   ],
   "source": [
    "# Creating marker layer for hotel locations\n",
    "markers = gmaps.marker_layer(locations,\n",
    "    info_box_content=hotel_info)\n",
    "fig.add_layer(markers)\n",
    "\n",
    "\n",
    "# Displaying the figure\n",
    "fig = gmaps.figure()\n",
    "\n",
    "fig.add_layer(heat_layer)\n",
    "fig.add_layer(markers)\n",
    "\n",
    "fig"
   ]
  },
  {
   "cell_type": "code",
   "execution_count": null,
   "metadata": {},
   "outputs": [],
   "source": []
  }
 ],
 "metadata": {
  "kernelspec": {
   "display_name": "Python 3",
   "language": "python",
   "name": "python3"
  },
  "language_info": {
   "codemirror_mode": {
    "name": "ipython",
    "version": 3
   },
   "file_extension": ".py",
   "mimetype": "text/x-python",
   "name": "python",
   "nbconvert_exporter": "python",
   "pygments_lexer": "ipython3",
   "version": "3.7.6"
  },
  "latex_envs": {
   "LaTeX_envs_menu_present": true,
   "autoclose": false,
   "autocomplete": true,
   "bibliofile": "biblio.bib",
   "cite_by": "apalike",
   "current_citInitial": 1,
   "eqLabelWithNumbers": true,
   "eqNumInitial": 1,
   "hotkeys": {
    "equation": "Ctrl-E",
    "itemize": "Ctrl-I"
   },
   "labels_anchors": false,
   "latex_user_defs": false,
   "report_style_numbering": false,
   "user_envs_cfg": false
  }
 },
 "nbformat": 4,
 "nbformat_minor": 2
}
